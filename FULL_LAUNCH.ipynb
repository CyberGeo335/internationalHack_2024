{
 "cells": [
  {
   "cell_type": "code",
   "id": "initial_id",
   "metadata": {
    "collapsed": true,
    "ExecuteTime": {
     "end_time": "2024-11-09T19:09:14.838146Z",
     "start_time": "2024-11-09T19:09:12.131972Z"
    }
   },
   "source": [
    "import os\n",
    "from ultralytics import YOLO\n",
    "from paddleocr import PaddleOCR\n",
    "from PIL import Image\n",
    "import numpy as np"
   ],
   "outputs": [],
   "execution_count": 10
  },
  {
   "metadata": {
    "ExecuteTime": {
     "end_time": "2024-11-09T19:08:25.188057Z",
     "start_time": "2024-11-09T19:08:25.185230Z"
    }
   },
   "cell_type": "code",
   "source": [
    "image = 'D:\\\\ProgPrj\\\\\\mezhnar\\\\data\\\\data_to_mix\\\\imgs\\\\21.JPG'\n",
    "model_path = 'D:\\\\ProgPrj\\\\mezhnar\\\\research\\\\pipeline\\\\best.pt'\n",
    "output_folder = 'D:\\\\ProgPrj\\\\mezhnar\\\\research\\\\pipeline'"
   ],
   "id": "76026ea0b9eff26c",
   "outputs": [],
   "execution_count": 8
  },
  {
   "metadata": {
    "ExecuteTime": {
     "end_time": "2024-11-09T19:02:40.448673Z",
     "start_time": "2024-11-09T19:02:39.930607Z"
    }
   },
   "cell_type": "code",
   "source": "model_pt = YOLO(model_path)",
   "id": "1f951d38645485d6",
   "outputs": [],
   "execution_count": 4
  },
  {
   "metadata": {
    "ExecuteTime": {
     "end_time": "2024-11-09T19:03:37.333212Z",
     "start_time": "2024-11-09T19:03:33.501361Z"
    }
   },
   "cell_type": "code",
   "source": "results = model_pt(image)",
   "id": "efcf3dd5a0c61f70",
   "outputs": [
    {
     "name": "stdout",
     "output_type": "stream",
     "text": [
      "\n",
      "image 1/1 D:\\ProgPrj\\mezhnar\\data\\data_to_mix\\imgs\\21.JPG: 640x480 1 0, 139.8ms\n",
      "Speed: 13.0ms preprocess, 139.8ms inference, 608.0ms postprocess per image at shape (1, 3, 640, 480)\n"
     ]
    }
   ],
   "execution_count": 6
  },
  {
   "metadata": {
    "ExecuteTime": {
     "end_time": "2024-11-09T19:08:28.830092Z",
     "start_time": "2024-11-09T19:08:28.700100Z"
    }
   },
   "cell_type": "code",
   "source": [
    "import os\n",
    "import math\n",
    "import numpy as np\n",
    "from PIL import Image\n",
    "\n",
    "os.makedirs(output_folder, exist_ok=True)\n",
    "\n",
    "best_confidence = -1  # Начальное значение для хранения лучшей вероятности\n",
    "best_cropped_image = None  # Переменная для хранения лучшего обрезанного изображения\n",
    "\n",
    "for result in results:\n",
    "    original_image = result.orig_img  # Получаем оригинальное изображение без bbox\n",
    "\n",
    "    # Проверяем, есть ли у result атрибут boxes и обрабатываем bbox, если он есть\n",
    "    if hasattr(result, 'boxes'):\n",
    "        total_boxes = len(result.boxes)\n",
    "        print(f\"Total bounding boxes: {total_boxes}\")\n",
    "\n",
    "        for i, box in enumerate(result.boxes):\n",
    "            # Проверяем, что box имеет атрибут xyxy для извлечения координат\n",
    "            if hasattr(box, 'xyxy') and box.xyxy.shape[-1] == 4:\n",
    "                x_min, y_min, x_max, y_max = box.xyxy[0].tolist()\n",
    "\n",
    "                # Попытка получить значение вероятности\n",
    "                confidence = None\n",
    "                if hasattr(box, 'confidence'):\n",
    "                    confidence = box.confidence.item() * 100\n",
    "                elif hasattr(box, 'score'):\n",
    "                    confidence = box.score.item() * 100\n",
    "                elif hasattr(box, 'conf'):\n",
    "                    confidence = box.conf.item() * 100\n",
    "\n",
    "                # Проверяем, что значение confidence не NaN и больше текущего лучшего значения\n",
    "                if confidence is not None and not math.isnan(confidence):\n",
    "                    print(f\"Bounding Box {i + 1} Probability: {confidence:.2f}%\")\n",
    "\n",
    "                    if confidence > best_confidence:\n",
    "                        best_confidence = confidence\n",
    "\n",
    "                        # Расширяем рамки с учетом padding и обрезаем изображение\n",
    "                        padding = 0.1  # Процент увеличения рамки\n",
    "                        height, width, _ = original_image.shape\n",
    "                        x_min = max(0, int(x_min - padding * (x_max - x_min)))\n",
    "                        y_min = max(0, int(y_min - padding * (y_max - y_min)))\n",
    "                        x_max = min(width, int(x_max + padding * (x_max - x_min)))\n",
    "                        y_max = min(height, int(y_max + padding * (y_max - y_min)))\n",
    "\n",
    "                        # Обрезаем изображение по расширенным рамкам и сохраняем как лучшее\n",
    "                        best_cropped_image = original_image[y_min:y_max, x_min:x_max]\n",
    "                else:\n",
    "                    print(f\"Ошибка: Probability для Bounding Box {i + 1} является NaN или отсутствует.\")\n",
    "    else:\n",
    "        print(\"Ошибка: result не содержит атрибут boxes.\")\n",
    "\n",
    "# Сохраняем оригинал и три поворота, если изображение было найдено\n",
    "if best_cropped_image is not None:\n",
    "    best_cropped_image_pil = Image.fromarray(best_cropped_image)\n",
    "    best_cropped_image_pil.save(os.path.join(output_folder, \"original.png\"))\n",
    "\n",
    "    for rotation in range(1, 4):\n",
    "        rotated_image = np.rot90(best_cropped_image, rotation)\n",
    "        rotated_image_pil = Image.fromarray(rotated_image)\n",
    "        rotated_image_pil.save(os.path.join(output_folder, f\"rotated_{rotation * 90}.png\"))\n",
    "else:\n",
    "    print(\"Нет подходящего изображения с уверенностью выше порога.\")\n"
   ],
   "id": "3f63e89a8929c45",
   "outputs": [
    {
     "name": "stdout",
     "output_type": "stream",
     "text": [
      "Total bounding boxes: 1\n",
      "Bounding Box 1 Probability: 85.48%\n"
     ]
    }
   ],
   "execution_count": 9
  },
  {
   "metadata": {
    "ExecuteTime": {
     "end_time": "2024-11-09T19:09:18.082085Z",
     "start_time": "2024-11-09T19:09:17.113560Z"
    }
   },
   "cell_type": "code",
   "source": "ocr_paddle = PaddleOCR(use_angle_cls=True, lang='en')",
   "id": "f1610a7627b80813",
   "outputs": [
    {
     "name": "stdout",
     "output_type": "stream",
     "text": [
      "[2024/11/09 22:09:17] ppocr DEBUG: Namespace(help='==SUPPRESS==', use_gpu=False, use_xpu=False, use_npu=False, use_mlu=False, ir_optim=True, use_tensorrt=False, min_subgraph_size=15, precision='fp32', gpu_mem=500, gpu_id=0, image_dir=None, page_num=0, det_algorithm='DB', det_model_dir='C:\\\\Users\\\\Geo/.paddleocr/whl\\\\det\\\\en\\\\en_PP-OCRv3_det_infer', det_limit_side_len=960, det_limit_type='max', det_box_type='quad', det_db_thresh=0.3, det_db_box_thresh=0.6, det_db_unclip_ratio=1.5, max_batch_size=10, use_dilation=False, det_db_score_mode='fast', det_east_score_thresh=0.8, det_east_cover_thresh=0.1, det_east_nms_thresh=0.2, det_sast_score_thresh=0.5, det_sast_nms_thresh=0.2, det_pse_thresh=0, det_pse_box_thresh=0.85, det_pse_min_area=16, det_pse_scale=1, scales=[8, 16, 32], alpha=1.0, beta=1.0, fourier_degree=5, rec_algorithm='SVTR_LCNet', rec_model_dir='C:\\\\Users\\\\Geo/.paddleocr/whl\\\\rec\\\\en\\\\en_PP-OCRv4_rec_infer', rec_image_inverse=True, rec_image_shape='3, 48, 320', rec_batch_num=6, max_text_length=25, rec_char_dict_path='D:\\\\Languages\\\\Python_3.11\\\\Lib\\\\site-packages\\\\paddleocr\\\\ppocr\\\\utils\\\\en_dict.txt', use_space_char=True, vis_font_path='./doc/fonts/simfang.ttf', drop_score=0.5, e2e_algorithm='PGNet', e2e_model_dir=None, e2e_limit_side_len=768, e2e_limit_type='max', e2e_pgnet_score_thresh=0.5, e2e_char_dict_path='./ppocr/utils/ic15_dict.txt', e2e_pgnet_valid_set='totaltext', e2e_pgnet_mode='fast', use_angle_cls=True, cls_model_dir='C:\\\\Users\\\\Geo/.paddleocr/whl\\\\cls\\\\ch_ppocr_mobile_v2.0_cls_infer', cls_image_shape='3, 48, 192', label_list=['0', '180'], cls_batch_num=6, cls_thresh=0.9, enable_mkldnn=False, cpu_threads=10, use_pdserving=False, warmup=False, sr_model_dir=None, sr_image_shape='3, 32, 128', sr_batch_num=1, draw_img_save_dir='./inference_results', save_crop_res=False, crop_res_save_dir='./output', use_mp=False, total_process_num=1, process_id=0, benchmark=False, save_log_path='./log_output/', show_log=True, use_onnx=False, return_word_box=False, output='./output', table_max_len=488, table_algorithm='TableAttn', table_model_dir=None, merge_no_span_structure=True, table_char_dict_path=None, formula_algorithm='LaTeXOCR', formula_model_dir=None, formula_char_dict_path=None, formula_batch_num=1, layout_model_dir=None, layout_dict_path=None, layout_score_threshold=0.5, layout_nms_threshold=0.5, kie_algorithm='LayoutXLM', ser_model_dir=None, re_model_dir=None, use_visual_backbone=True, ser_dict_path='../train_data/XFUND/class_list_xfun.txt', ocr_order_method=None, mode='structure', image_orientation=False, layout=True, table=True, formula=False, ocr=True, recovery=False, recovery_to_markdown=False, use_pdf2docx_api=False, invert=False, binarize=False, alphacolor=(255, 255, 255), lang='en', det=True, rec=True, type='ocr', savefile=False, ocr_version='PP-OCRv4', structure_version='PP-StructureV2')\n"
     ]
    }
   ],
   "execution_count": 11
  },
  {
   "metadata": {
    "ExecuteTime": {
     "end_time": "2024-11-09T19:13:41.831844Z",
     "start_time": "2024-11-09T19:13:41.342113Z"
    }
   },
   "cell_type": "code",
   "source": [
    "# Проход по всем файлам в папке\n",
    "for filename in os.listdir(output_folder):\n",
    "    if filename.endswith('.png') or filename.endswith('.jpg'):  # Добавьте другие форматы, если необходимо\n",
    "        file_path = os.path.join(output_folder, filename)\n",
    "\n",
    "        # Загрузка изображения и преобразование в numpy массив\n",
    "        image = Image.open(file_path)\n",
    "        image_np = np.array(image)\n",
    "\n",
    "        # Выполнение OCR\n",
    "        results = ocr_paddle.ocr(image_np, cls=True)\n",
    "\n",
    "        # Проверка, есть ли результаты\n",
    "        if results and results[0]:\n",
    "            print(f\"Результаты для {filename}:\")\n",
    "            for line in results[0]:\n",
    "                text = line[1][0]\n",
    "                confidence = line[1][1]\n",
    "                print(f\"text: {text}, confidence: {confidence}\")\n",
    "        else:\n",
    "            print(f\"На изображении {filename} текст не найден.\")\n",
    "\n",
    "        print(\"\\n\" + \"=\"*50 + \"\\n\")  # Разделитель между изображениями"
   ],
   "id": "b7eafb8aac5c9cf2",
   "outputs": [
    {
     "name": "stdout",
     "output_type": "stream",
     "text": [
      "[2024/11/09 22:13:41] ppocr DEBUG: dt_boxes num : 2, elapsed : 0.02778458595275879\n",
      "[2024/11/09 22:13:41] ppocr DEBUG: cls num  : 2, elapsed : 0.005000591278076172\n",
      "[2024/11/09 22:13:41] ppocr DEBUG: rec_res num  : 2, elapsed : 0.04700303077697754\n",
      "Результаты для original.png:\n",
      "text: 195-30-128, confidence: 0.7270439267158508\n",
      "text: 2652, confidence: 0.7332246899604797\n",
      "\n",
      "==================================================\n",
      "\n",
      "[2024/11/09 22:13:41] ppocr DEBUG: dt_boxes num : 2, elapsed : 0.026001453399658203\n",
      "[2024/11/09 22:13:41] ppocr DEBUG: cls num  : 2, elapsed : 0.007002115249633789\n",
      "[2024/11/09 22:13:41] ppocr DEBUG: rec_res num  : 2, elapsed : 0.04859042167663574\n",
      "На изображении rotated_180.png текст не найден.\n",
      "\n",
      "==================================================\n",
      "\n",
      "[2024/11/09 22:13:41] ppocr DEBUG: dt_boxes num : 2, elapsed : 0.1371452808380127\n",
      "[2024/11/09 22:13:41] ppocr DEBUG: cls num  : 2, elapsed : 0.005001068115234375\n",
      "[2024/11/09 22:13:41] ppocr DEBUG: rec_res num  : 2, elapsed : 0.07559084892272949\n",
      "Результаты для rotated_270.png:\n",
      "text: 195-30-1286, confidence: 0.7501741051673889\n",
      "text: 2662, confidence: 0.7747031450271606\n",
      "\n",
      "==================================================\n",
      "\n",
      "[2024/11/09 22:13:41] ppocr DEBUG: dt_boxes num : 2, elapsed : 0.02700018882751465\n",
      "[2024/11/09 22:13:41] ppocr DEBUG: cls num  : 2, elapsed : 0.0050008296966552734\n",
      "[2024/11/09 22:13:41] ppocr DEBUG: rec_res num  : 2, elapsed : 0.04199814796447754\n",
      "Результаты для rotated_90.png:\n",
      "text: 95-30-1280, confidence: 0.8326570391654968\n",
      "\n",
      "==================================================\n",
      "\n"
     ]
    }
   ],
   "execution_count": 14
  },
  {
   "metadata": {
    "ExecuteTime": {
     "end_time": "2024-11-09T21:16:23.839839Z",
     "start_time": "2024-11-09T21:16:22.319183Z"
    }
   },
   "cell_type": "code",
   "source": [
    "import pandas as pd\n",
    "from Levenshtein import distance as levenshtein_distance\n",
    "\n",
    "data = 'D:\\\\ProgPrj\\\\mezhnar\\\\data\\\\ДеталиПоПлануДляРазрешенныхЗаказов.xlsx'\n",
    "df = pd.read_excel(data)\n",
    "\n",
    "# OCR результаты\n",
    "ocr_detaliartikuly = [\"195-30-128\", \"195-30-1286\", \"95-30-1280\"]\n",
    "ocr_poryadkovy_nomer = \"2652\"\n",
    "\n",
    "# Порог вероятности для соответствия по расстоянию Левенштейна\n",
    "threshold = 6 # Можно настроить в зависимости от требуемой точности\n",
    "\n",
    "# Функция для поиска строк с заданным порогом по расстоянию Левенштейна\n",
    "def find_similar_rows(df, ocr_artikuls, ocr_poryadkovy, threshold):\n",
    "    results = []\n",
    "\n",
    "    for ocr_artikul in ocr_artikuls:\n",
    "        for index, row in df.iterrows():\n",
    "            # Преобразуем значения в строку\n",
    "            artikul_value = str(row['ДетальАртикул'])\n",
    "            poryadkovy_value = str(row['ПорядковыйНомер'])\n",
    "\n",
    "            artikul_distance = levenshtein_distance(ocr_artikul, artikul_value)\n",
    "            poryadkovy_distance = levenshtein_distance(ocr_poryadkovy, poryadkovy_value)\n",
    "\n",
    "            if artikul_distance <= threshold and poryadkovy_distance <= threshold:\n",
    "                results.append({\n",
    "                    \"index\": index,\n",
    "                    \"ДетальАртикул\": artikul_value,\n",
    "                    \"ПорядковыйНомер\": poryadkovy_value,\n",
    "                    \"АртикулСовпадение\": 100 - (artikul_distance / max(len(ocr_artikul), len(artikul_value))) * 100,\n",
    "                    \"ПорядковыйСовпадение\": 100 - (poryadkovy_distance / max(len(ocr_poryadkovy), len(poryadkovy_value))) * 100\n",
    "                })\n",
    "\n",
    "    return pd.DataFrame(results)\n",
    "\n",
    "# Выполнение поиска и вывод результатов\n",
    "similar_rows = find_similar_rows(df, ocr_detaliartikuly, ocr_poryadkovy_nomer, threshold)"
   ],
   "id": "cc819a77721dff48",
   "outputs": [],
   "execution_count": 29
  },
  {
   "metadata": {
    "ExecuteTime": {
     "end_time": "2024-11-09T21:16:24.434390Z",
     "start_time": "2024-11-09T21:16:24.427773Z"
    }
   },
   "cell_type": "code",
   "source": "similar_rows",
   "id": "88a7350d667463db",
   "outputs": [
    {
     "data": {
      "text/plain": [
       "     index      ДетальАртикул ПорядковыйНомер  АртикулСовпадение  \\\n",
       "0     3073     \"1753-30-0120\"             0.0          57.142857   \n",
       "1     3083     \"1753-30-0129\"             0.0          57.142857   \n",
       "2     3086     \"1753-30-0142\"             0.0          57.142857   \n",
       "3     3096     \"1753-30-1062\"             0.0          57.142857   \n",
       "4     3097     \"1753-30-1324\"             0.0          57.142857   \n",
       "..     ...                ...             ...                ...   \n",
       "211   4428     \"1753-30-0129\"             0.0          57.142857   \n",
       "212   4442     \"1753-30-1324\"             0.0          57.142857   \n",
       "213   4443     \"1753-30-1325\"             0.0          57.142857   \n",
       "214   4444     \"1753-30-1326\"             0.0          57.142857   \n",
       "215   4461  \"195-30-1286 ТС9\"             0.0          64.705882   \n",
       "\n",
       "     ПорядковыйСовпадение  \n",
       "0                     0.0  \n",
       "1                     0.0  \n",
       "2                     0.0  \n",
       "3                     0.0  \n",
       "4                     0.0  \n",
       "..                    ...  \n",
       "211                   0.0  \n",
       "212                   0.0  \n",
       "213                   0.0  \n",
       "214                   0.0  \n",
       "215                   0.0  \n",
       "\n",
       "[216 rows x 5 columns]"
      ],
      "text/html": [
       "<div>\n",
       "<style scoped>\n",
       "    .dataframe tbody tr th:only-of-type {\n",
       "        vertical-align: middle;\n",
       "    }\n",
       "\n",
       "    .dataframe tbody tr th {\n",
       "        vertical-align: top;\n",
       "    }\n",
       "\n",
       "    .dataframe thead th {\n",
       "        text-align: right;\n",
       "    }\n",
       "</style>\n",
       "<table border=\"1\" class=\"dataframe\">\n",
       "  <thead>\n",
       "    <tr style=\"text-align: right;\">\n",
       "      <th></th>\n",
       "      <th>index</th>\n",
       "      <th>ДетальАртикул</th>\n",
       "      <th>ПорядковыйНомер</th>\n",
       "      <th>АртикулСовпадение</th>\n",
       "      <th>ПорядковыйСовпадение</th>\n",
       "    </tr>\n",
       "  </thead>\n",
       "  <tbody>\n",
       "    <tr>\n",
       "      <th>0</th>\n",
       "      <td>3073</td>\n",
       "      <td>\"1753-30-0120\"</td>\n",
       "      <td>0.0</td>\n",
       "      <td>57.142857</td>\n",
       "      <td>0.0</td>\n",
       "    </tr>\n",
       "    <tr>\n",
       "      <th>1</th>\n",
       "      <td>3083</td>\n",
       "      <td>\"1753-30-0129\"</td>\n",
       "      <td>0.0</td>\n",
       "      <td>57.142857</td>\n",
       "      <td>0.0</td>\n",
       "    </tr>\n",
       "    <tr>\n",
       "      <th>2</th>\n",
       "      <td>3086</td>\n",
       "      <td>\"1753-30-0142\"</td>\n",
       "      <td>0.0</td>\n",
       "      <td>57.142857</td>\n",
       "      <td>0.0</td>\n",
       "    </tr>\n",
       "    <tr>\n",
       "      <th>3</th>\n",
       "      <td>3096</td>\n",
       "      <td>\"1753-30-1062\"</td>\n",
       "      <td>0.0</td>\n",
       "      <td>57.142857</td>\n",
       "      <td>0.0</td>\n",
       "    </tr>\n",
       "    <tr>\n",
       "      <th>4</th>\n",
       "      <td>3097</td>\n",
       "      <td>\"1753-30-1324\"</td>\n",
       "      <td>0.0</td>\n",
       "      <td>57.142857</td>\n",
       "      <td>0.0</td>\n",
       "    </tr>\n",
       "    <tr>\n",
       "      <th>...</th>\n",
       "      <td>...</td>\n",
       "      <td>...</td>\n",
       "      <td>...</td>\n",
       "      <td>...</td>\n",
       "      <td>...</td>\n",
       "    </tr>\n",
       "    <tr>\n",
       "      <th>211</th>\n",
       "      <td>4428</td>\n",
       "      <td>\"1753-30-0129\"</td>\n",
       "      <td>0.0</td>\n",
       "      <td>57.142857</td>\n",
       "      <td>0.0</td>\n",
       "    </tr>\n",
       "    <tr>\n",
       "      <th>212</th>\n",
       "      <td>4442</td>\n",
       "      <td>\"1753-30-1324\"</td>\n",
       "      <td>0.0</td>\n",
       "      <td>57.142857</td>\n",
       "      <td>0.0</td>\n",
       "    </tr>\n",
       "    <tr>\n",
       "      <th>213</th>\n",
       "      <td>4443</td>\n",
       "      <td>\"1753-30-1325\"</td>\n",
       "      <td>0.0</td>\n",
       "      <td>57.142857</td>\n",
       "      <td>0.0</td>\n",
       "    </tr>\n",
       "    <tr>\n",
       "      <th>214</th>\n",
       "      <td>4444</td>\n",
       "      <td>\"1753-30-1326\"</td>\n",
       "      <td>0.0</td>\n",
       "      <td>57.142857</td>\n",
       "      <td>0.0</td>\n",
       "    </tr>\n",
       "    <tr>\n",
       "      <th>215</th>\n",
       "      <td>4461</td>\n",
       "      <td>\"195-30-1286 ТС9\"</td>\n",
       "      <td>0.0</td>\n",
       "      <td>64.705882</td>\n",
       "      <td>0.0</td>\n",
       "    </tr>\n",
       "  </tbody>\n",
       "</table>\n",
       "<p>216 rows × 5 columns</p>\n",
       "</div>"
      ]
     },
     "execution_count": 30,
     "metadata": {},
     "output_type": "execute_result"
    }
   ],
   "execution_count": 30
  },
  {
   "metadata": {},
   "cell_type": "code",
   "outputs": [],
   "execution_count": null,
   "source": "",
   "id": "86bd428fafa7dd4a"
  }
 ],
 "metadata": {
  "kernelspec": {
   "display_name": "Python 3",
   "language": "python",
   "name": "python3"
  },
  "language_info": {
   "codemirror_mode": {
    "name": "ipython",
    "version": 2
   },
   "file_extension": ".py",
   "mimetype": "text/x-python",
   "name": "python",
   "nbconvert_exporter": "python",
   "pygments_lexer": "ipython2",
   "version": "2.7.6"
  }
 },
 "nbformat": 4,
 "nbformat_minor": 5
}
