{
 "cells": [
  {
   "cell_type": "code",
   "id": "initial_id",
   "metadata": {
    "collapsed": true,
    "ExecuteTime": {
     "end_time": "2024-11-08T22:59:03.957082Z",
     "start_time": "2024-11-08T22:59:01.990277Z"
    }
   },
   "source": [
    "import cv2\n",
    "import torch\n",
    "from ultralytics import YOLO\n",
    "import matplotlib.pyplot as plt"
   ],
   "outputs": [],
   "execution_count": 1
  },
  {
   "metadata": {
    "ExecuteTime": {
     "end_time": "2024-11-08T22:59:04.868654Z",
     "start_time": "2024-11-08T22:59:04.761953Z"
    }
   },
   "cell_type": "code",
   "source": [
    "model_path = 'D:\\\\ProgPrj\\\\mezhnar\\\\data\\\\learning\\\\runs\\\\detect\\\\train7222\\\\weights\\\\best.pt'\n",
    "model_pt = YOLO(model_path)"
   ],
   "id": "12cdd96b07c99efa",
   "outputs": [],
   "execution_count": 2
  },
  {
   "metadata": {
    "ExecuteTime": {
     "end_time": "2024-11-09T11:03:52.868366Z",
     "start_time": "2024-11-09T11:03:52.851596Z"
    }
   },
   "cell_type": "code",
   "source": [
    "img_path = 'D:\\\\ProgPrj\\\\mezhnar\\\\data\\\\splited_data\\\\valid\\\\images\\\\21.JPG'\n",
    "img = cv2.imread(img_path)"
   ],
   "id": "648def560d67b181",
   "outputs": [],
   "execution_count": 163
  },
  {
   "metadata": {
    "ExecuteTime": {
     "end_time": "2024-11-09T11:03:53.300639Z",
     "start_time": "2024-11-09T11:03:53.118349Z"
    }
   },
   "cell_type": "code",
   "source": "results = model_pt(img_path)",
   "id": "e4b9d1cdaa257f0b",
   "outputs": [
    {
     "name": "stdout",
     "output_type": "stream",
     "text": [
      "\n",
      "image 1/1 D:\\ProgPrj\\mezhnar\\data\\splited_data\\valid\\images\\21.JPG: 640x480 1 0, 155.9ms\n",
      "Speed: 3.0ms preprocess, 155.9ms inference, 3.5ms postprocess per image at shape (1, 3, 640, 480)\n"
     ]
    }
   ],
   "execution_count": 164
  },
  {
   "metadata": {
    "ExecuteTime": {
     "end_time": "2024-11-09T11:03:53.441574Z",
     "start_time": "2024-11-09T11:03:53.438216Z"
    }
   },
   "cell_type": "code",
   "source": "",
   "id": "9b60a1b806034fa2",
   "outputs": [],
   "execution_count": 165
  },
  {
   "metadata": {
    "ExecuteTime": {
     "end_time": "2024-11-09T11:03:54.115820Z",
     "start_time": "2024-11-09T11:03:53.981561Z"
    }
   },
   "cell_type": "code",
   "source": [
    "import os\n",
    "import math  # Для проверки NaN значений\n",
    "import numpy as np\n",
    "import matplotlib.pyplot as plt\n",
    "from PIL import Image\n",
    "\n",
    "# Создаем папку 'rotate', если она еще не существует\n",
    "output_folder = 'D:\\\\ProgPrj\\\\mezhnar\\\\research\\\\rotate'\n",
    "os.makedirs(output_folder, exist_ok=True)\n",
    "\n",
    "best_confidence = -1  # Начальное значение для хранения лучшей вероятности\n",
    "best_cropped_image = None  # Переменная для хранения лучшего обрезанного изображения\n",
    "\n",
    "for result in results:\n",
    "    original_image = result.orig_img  # Получаем оригинальное изображение без bbox\n",
    "\n",
    "    # Проверяем, есть ли у result атрибут boxes и обрабатываем bbox, если он есть\n",
    "    if hasattr(result, 'boxes'):\n",
    "        total_boxes = len(result.boxes)\n",
    "        print(f\"Total bounding boxes: {total_boxes}\")\n",
    "\n",
    "        for i, box in enumerate(result.boxes):\n",
    "            # Проверяем, что box имеет атрибут xyxy для извлечения координат\n",
    "            if hasattr(box, 'xyxy') and box.xyxy.shape[-1] == 4:\n",
    "                x_min, y_min, x_max, y_max = box.xyxy[0].tolist()\n",
    "\n",
    "                # Попытка получить значение вероятности\n",
    "                confidence = None\n",
    "                if hasattr(box, 'confidence'):\n",
    "                    confidence = box.confidence.item() * 100\n",
    "                elif hasattr(box, 'score'):\n",
    "                    confidence = box.score.item() * 100\n",
    "                elif hasattr(box, 'conf'):\n",
    "                    confidence = box.conf.item() * 100\n",
    "\n",
    "                # Проверяем, что значение confidence не NaN и больше текущего лучшего значения\n",
    "                if confidence is not None and not math.isnan(confidence):\n",
    "                    print(f\"Bounding Box {i + 1} Probability: {confidence:.2f}%\")\n",
    "\n",
    "                    if confidence > best_confidence:\n",
    "                        best_confidence = confidence\n",
    "\n",
    "                        # Расширяем рамки с учетом padding и обрезаем изображение\n",
    "                        padding = 0.1  # Процент увеличения рамки\n",
    "                        height, width, _ = original_image.shape\n",
    "                        x_min = max(0, int(x_min - padding * (x_max - x_min)))\n",
    "                        y_min = max(0, int(y_min - padding * (y_max - y_min)))\n",
    "                        x_max = min(width, int(x_max + padding * (x_max - x_min)))\n",
    "                        y_max = min(height, int(y_max + padding * (y_max - y_min)))\n",
    "\n",
    "                        # Обрезаем изображение по расширенным рамкам и сохраняем как лучшее\n",
    "                        best_cropped_image = original_image[y_min:y_max, x_min:x_max]\n",
    "                else:\n",
    "                    print(f\"Ошибка: Probability для Bounding Box {i + 1} является NaN или отсутствует.\")\n",
    "    else:\n",
    "        print(\"Ошибка: result не содержит атрибут boxes.\")\n",
    "\n",
    "# Сохраняем оригинал и три поворота, если изображение было найдено\n",
    "if best_cropped_image is not None:\n",
    "    # Конвертируем обрезанное изображение в формат PIL для сохранения\n",
    "    best_cropped_image_pil = Image.fromarray(best_cropped_image)\n",
    "    best_cropped_image_pil.save(os.path.join(output_folder, \"original.png\"))\n",
    "\n",
    "    # Вращаем и сохраняем изображение три раза\n",
    "    for rotation in range(1, 4):\n",
    "        rotated_image = np.rot90(best_cropped_image, rotation)\n",
    "        rotated_image_pil = Image.fromarray(rotated_image)\n",
    "        rotated_image_pil.save(os.path.join(output_folder, f\"rotated_{rotation * 90}.png\"))\n",
    "else:\n",
    "    print(\"Нет подходящего изображения с уверенностью выше порога.\")\n"
   ],
   "id": "dc86c3b2993200b2",
   "outputs": [
    {
     "name": "stdout",
     "output_type": "stream",
     "text": [
      "Total bounding boxes: 1\n",
      "Bounding Box 1 Probability: 85.48%\n"
     ]
    }
   ],
   "execution_count": 166
  },
  {
   "metadata": {},
   "cell_type": "markdown",
   "source": "#### Easy OCR",
   "id": "499928208dbbba2f"
  },
  {
   "metadata": {
    "ExecuteTime": {
     "end_time": "2024-11-09T11:03:56.181197Z",
     "start_time": "2024-11-09T11:03:56.178526Z"
    }
   },
   "cell_type": "code",
   "source": [
    "import easyocr\n",
    "import cv2"
   ],
   "id": "a95e16fcbefd8753",
   "outputs": [],
   "execution_count": 167
  },
  {
   "metadata": {
    "ExecuteTime": {
     "end_time": "2024-11-09T11:03:58.916754Z",
     "start_time": "2024-11-09T11:03:57.486699Z"
    }
   },
   "cell_type": "code",
   "source": "reader = easyocr.Reader(['en', 'ru'])",
   "id": "77d54ae81f708933",
   "outputs": [],
   "execution_count": 168
  },
  {
   "metadata": {
    "ExecuteTime": {
     "end_time": "2024-11-09T11:03:59.454518Z",
     "start_time": "2024-11-09T11:03:59.451410Z"
    }
   },
   "cell_type": "code",
   "source": [
    "pp = 'D:\\\\ProgPrj\\\\mezhnar\\\\research\\\\rotate\\\\original.png'\n",
    "pp90 = 'D:\\\\ProgPrj\\\\mezhnar\\\\research\\\\rotate\\\\rotated_90.png'\n",
    "pp180 = 'D:\\\\ProgPrj\\\\mezhnar\\\\research\\\\rotate\\\\rotated_180.png'\n",
    "pp270 = 'D:\\\\ProgPrj\\\\mezhnar\\\\research\\\\rotate\\\\rotated_270.png'"
   ],
   "id": "df7f7a9ca40ff0d2",
   "outputs": [],
   "execution_count": 169
  },
  {
   "metadata": {
    "ExecuteTime": {
     "end_time": "2024-11-09T11:04:00.603945Z",
     "start_time": "2024-11-09T11:04:00.345862Z"
    }
   },
   "cell_type": "code",
   "source": [
    "image = cv2.imread(pp)\n",
    "results_ocr = reader.readtext(image)"
   ],
   "id": "f13cb9fdc4d617a8",
   "outputs": [],
   "execution_count": 170
  },
  {
   "metadata": {
    "ExecuteTime": {
     "end_time": "2024-11-09T11:04:00.973861Z",
     "start_time": "2024-11-09T11:04:00.970764Z"
    }
   },
   "cell_type": "code",
   "source": [
    "for(bbox, text, prob) in results_ocr:\n",
    "    print(text, prob)"
   ],
   "id": "121ba86f26af38f2",
   "outputs": [
    {
     "name": "stdout",
     "output_type": "stream",
     "text": [
      "175 0.490319162607193\n"
     ]
    }
   ],
   "execution_count": 171
  },
  {
   "metadata": {
    "ExecuteTime": {
     "end_time": "2024-11-09T11:04:04.021636Z",
     "start_time": "2024-11-09T11:04:03.891487Z"
    }
   },
   "cell_type": "code",
   "source": [
    "image = cv2.imread(pp90)\n",
    "results_ocr = reader.readtext(image)"
   ],
   "id": "b645755583aade66",
   "outputs": [],
   "execution_count": 172
  },
  {
   "metadata": {
    "ExecuteTime": {
     "end_time": "2024-11-09T11:04:04.576149Z",
     "start_time": "2024-11-09T11:04:04.572964Z"
    }
   },
   "cell_type": "code",
   "source": [
    "for(bbox, text, prob) in results_ocr:\n",
    "    print(text, prob)"
   ],
   "id": "409f265b3a11ce36",
   "outputs": [],
   "execution_count": 173
  },
  {
   "metadata": {
    "ExecuteTime": {
     "end_time": "2024-11-09T11:04:05.564735Z",
     "start_time": "2024-11-09T11:04:05.375757Z"
    }
   },
   "cell_type": "code",
   "source": [
    "image = cv2.imread(pp180)\n",
    "results_ocr = reader.readtext(image)"
   ],
   "id": "9ead61a4cffcb6da",
   "outputs": [],
   "execution_count": 174
  },
  {
   "metadata": {
    "ExecuteTime": {
     "end_time": "2024-11-09T11:04:06.178008Z",
     "start_time": "2024-11-09T11:04:06.175185Z"
    }
   },
   "cell_type": "code",
   "source": [
    "for(bbox, text, prob) in results_ocr:\n",
    "    print(text, prob)"
   ],
   "id": "427eca1b7c0e463f",
   "outputs": [
    {
     "name": "stdout",
     "output_type": "stream",
     "text": [
      "#ElY 0.0038454311434179544\n"
     ]
    }
   ],
   "execution_count": 175
  },
  {
   "metadata": {
    "ExecuteTime": {
     "end_time": "2024-11-09T11:04:07.068807Z",
     "start_time": "2024-11-09T11:04:07.049739Z"
    }
   },
   "cell_type": "code",
   "source": [
    "image = cv2.imread(pp270)\n",
    "results_ocr = reader.readtext(image)"
   ],
   "id": "4d8f993ce57e1431",
   "outputs": [],
   "execution_count": 176
  },
  {
   "metadata": {
    "ExecuteTime": {
     "end_time": "2024-11-09T11:04:07.514501Z",
     "start_time": "2024-11-09T11:04:07.511829Z"
    }
   },
   "cell_type": "code",
   "source": [
    "for(bbox, text, prob) in results_ocr:\n",
    "    print(text, prob)"
   ],
   "id": "7823a77781e4ff14",
   "outputs": [],
   "execution_count": 177
  },
  {
   "metadata": {},
   "cell_type": "code",
   "outputs": [],
   "execution_count": null,
   "source": "",
   "id": "f4e64ff5ec2a3775"
  }
 ],
 "metadata": {
  "kernelspec": {
   "display_name": "Python 3",
   "language": "python",
   "name": "python3"
  },
  "language_info": {
   "codemirror_mode": {
    "name": "ipython",
    "version": 2
   },
   "file_extension": ".py",
   "mimetype": "text/x-python",
   "name": "python",
   "nbconvert_exporter": "python",
   "pygments_lexer": "ipython2",
   "version": "2.7.6"
  }
 },
 "nbformat": 4,
 "nbformat_minor": 5
}
